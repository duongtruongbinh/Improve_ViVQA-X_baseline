{
 "cells": [
  {
   "cell_type": "code",
   "execution_count": 1,
   "id": "ef6eb113",
   "metadata": {},
   "outputs": [],
   "source": [
    "import os\n",
    "os.environ[\"SERPAPI_API_KEY\"] = \"8a63f4c93d83b786b9f3cdad06922bf0dea6330d4ec4269d7658b75c46538c6f\"\n",
    "os.environ[\"GOOGLE_APPLICATION_CREDENTIALS\"] = \"../credentials/bwa-agents-54872988b93e.json\""
   ]
  },
  {
   "cell_type": "code",
   "execution_count": 2,
   "id": "ff38d937",
   "metadata": {},
   "outputs": [],
   "source": [
    "from langchain_community.tools.google_lens import GoogleLensQueryRun\n",
    "from langchain_community.tools.wikipedia.tool import WikipediaQueryRun\n",
    "from langchain_community.utilities.google_lens import GoogleLensAPIWrapper\n",
    "from langchain_community.utilities.wikipedia import WikipediaAPIWrapper\n",
    "from autogen_ext.tools.langchain import LangChainToolAdapter\n",
    "from langchain_google_vertexai import VertexAI\n",
    "from autogen_core.models import ChatCompletionClient\n",
    "from autogen_agentchat.agents import AssistantAgent\n",
    "from google.cloud import aiplatform"
   ]
  },
  {
   "cell_type": "code",
   "execution_count": 3,
   "id": "70f7fc23",
   "metadata": {},
   "outputs": [
    {
     "name": "stdout",
     "output_type": "stream",
     "text": [
      "J'adore la programmation.\n",
      "\n"
     ]
    }
   ],
   "source": [
    "aiplatform.init(project='bwa-agents',\n",
    "                location='us-central1')\n",
    "\n",
    "vertex_ai_llm = VertexAI(model_name=\"gemini-2.0-flash-lite-001\")\n",
    "message = \"What are some of the pros and cons of Python as a programming language?\"\n",
    "messages = [\n",
    "    (\n",
    "        \"system\",\n",
    "        \"You are a helpful assistant that translates English to French. Translate the user sentence.\",\n",
    "    ),\n",
    "    (\"human\", \"I love programming.\"),\n",
    "]\n",
    "ai_msg = vertex_ai_llm.invoke(messages)\n",
    "print(ai_msg)"
   ]
  },
  {
   "cell_type": "code",
   "execution_count": null,
   "id": "8adc7a12",
   "metadata": {},
   "outputs": [],
   "source": [
    "google_lens_api = GoogleLensAPIWrapper()\n",
    "google_lens_tool = LangChainToolAdapter(\n",
    "    GoogleLensQueryRun(api_wrapper=google_lens_api)\n",
    ")"
   ]
  },
  {
   "cell_type": "code",
   "execution_count": null,
   "id": "3f5969ce",
   "metadata": {},
   "outputs": [
    {
     "ename": "ImportError",
     "evalue": "Could not import wikipedia python package. Please install it with `pip install wikipedia`.",
     "output_type": "error",
     "traceback": [
      "\u001b[1;31m---------------------------------------------------------------------------\u001b[0m",
      "\u001b[1;31mModuleNotFoundError\u001b[0m                       Traceback (most recent call last)",
      "File \u001b[1;32md:\\Asus\\Ungdung\\Miniconda\\workspace\\envs\\LLMs_Agents\\lib\\site-packages\\langchain_community\\utilities\\wikipedia.py:35\u001b[0m, in \u001b[0;36mWikipediaAPIWrapper.validate_environment\u001b[1;34m(cls, values)\u001b[0m\n\u001b[0;32m     34\u001b[0m \u001b[38;5;28;01mtry\u001b[39;00m:\n\u001b[1;32m---> 35\u001b[0m     \u001b[38;5;28;01mimport\u001b[39;00m\u001b[38;5;250m \u001b[39m\u001b[38;5;21;01mwikipedia\u001b[39;00m\n\u001b[0;32m     37\u001b[0m     lang \u001b[38;5;241m=\u001b[39m values\u001b[38;5;241m.\u001b[39mget(\u001b[38;5;124m\"\u001b[39m\u001b[38;5;124mlang\u001b[39m\u001b[38;5;124m\"\u001b[39m, \u001b[38;5;124m\"\u001b[39m\u001b[38;5;124men\u001b[39m\u001b[38;5;124m\"\u001b[39m)\n",
      "\u001b[1;31mModuleNotFoundError\u001b[0m: No module named 'wikipedia'",
      "\nDuring handling of the above exception, another exception occurred:\n",
      "\u001b[1;31mImportError\u001b[0m                               Traceback (most recent call last)",
      "Cell \u001b[1;32mIn[7], line 1\u001b[0m\n\u001b[1;32m----> 1\u001b[0m wikipedia_api \u001b[38;5;241m=\u001b[39m \u001b[43mWikipediaAPIWrapper\u001b[49m\u001b[43m(\u001b[49m\u001b[43m)\u001b[49m\n\u001b[0;32m      2\u001b[0m wikipedia_tool \u001b[38;5;241m=\u001b[39m LangChainToolAdapter(\n\u001b[0;32m      3\u001b[0m     WikipediaQueryRun(api_wrapper\u001b[38;5;241m=\u001b[39mwikipedia_api)\n\u001b[0;32m      4\u001b[0m )\n",
      "    \u001b[1;31m[... skipping hidden 1 frame]\u001b[0m\n",
      "File \u001b[1;32md:\\Asus\\Ungdung\\Miniconda\\workspace\\envs\\LLMs_Agents\\lib\\site-packages\\langchain_community\\utilities\\wikipedia.py:41\u001b[0m, in \u001b[0;36mWikipediaAPIWrapper.validate_environment\u001b[1;34m(cls, values)\u001b[0m\n\u001b[0;32m     39\u001b[0m     values[\u001b[38;5;124m\"\u001b[39m\u001b[38;5;124mwiki_client\u001b[39m\u001b[38;5;124m\"\u001b[39m] \u001b[38;5;241m=\u001b[39m wikipedia\n\u001b[0;32m     40\u001b[0m \u001b[38;5;28;01mexcept\u001b[39;00m \u001b[38;5;167;01mImportError\u001b[39;00m:\n\u001b[1;32m---> 41\u001b[0m     \u001b[38;5;28;01mraise\u001b[39;00m \u001b[38;5;167;01mImportError\u001b[39;00m(\n\u001b[0;32m     42\u001b[0m         \u001b[38;5;124m\"\u001b[39m\u001b[38;5;124mCould not import wikipedia python package. \u001b[39m\u001b[38;5;124m\"\u001b[39m\n\u001b[0;32m     43\u001b[0m         \u001b[38;5;124m\"\u001b[39m\u001b[38;5;124mPlease install it with `pip install wikipedia`.\u001b[39m\u001b[38;5;124m\"\u001b[39m\n\u001b[0;32m     44\u001b[0m     )\n\u001b[0;32m     45\u001b[0m \u001b[38;5;28;01mreturn\u001b[39;00m values\n",
      "\u001b[1;31mImportError\u001b[0m: Could not import wikipedia python package. Please install it with `pip install wikipedia`."
     ]
    }
   ],
   "source": [
    "wikipedia_api = WikipediaAPIWrapper()\n",
    "wikipedia_tool = LangChainToolAdapter(\n",
    "    WikipediaQueryRun(api_wrapper=wikipedia_api)\n",
    ")\n",
    "print(google_lens(\"https://upload.wikimedia.org/wikipedia/commons/9/99/Taj-Mahal.jpg\"))"
   ]
  },
  {
   "cell_type": "code",
   "execution_count": null,
   "id": "53eb2623",
   "metadata": {},
   "outputs": [],
   "source": [
    "config = {\n",
    "    \"provider\": \"OpenAIChatCompletionClient\",\n",
    "    \"config\": {\n",
    "        \"model\": \"qwen2-vl-2b-instruct\",\n",
    "        \"base_url\": \"http://127.0.0.1:1234/v1\",\n",
    "        \"api_key\": \"lm-studio\",\n",
    "        \"model_info\": {\n",
    "            \"name\": \"qwen2-vl-2b-instruct\",\n",
    "            \"family\": \"openai\",\n",
    "            \"supports_tool_calling\": False,\n",
    "            \"supports_json_mode\": False,\n",
    "            \"structured_output\": True,\n",
    "            \"json_output\": True,\n",
    "            \"function_calling\": True,\n",
    "            \"vision\": True,\n",
    "        }\n",
    "    }\n",
    "}\n",
    "\n",
    "client = ChatCompletionClient.load_component(config)\n",
    "\n",
    "agent = AssistantAgent(\n",
    "    \"assistant\",\n",
    "    tools=[google_lens_tool, wikipedia_tool],\n",
    "    model_client=client,\n",
    "    system_message=\"You can use Google Lens and Wikipedia tools to answer questions.\"\n",
    ")"
   ]
  },
  {
   "cell_type": "code",
   "execution_count": null,
   "id": "8020ef3d",
   "metadata": {},
   "outputs": [],
   "source": [
    "import asyncio\n",
    "from autogen_agentchat.messages import TextMessage\n",
    "from autogen_agentchat.ui import Console\n",
    "from autogen_core import CancellationToken\n",
    "\n",
    "async def main():\n",
    "    prompt = TextMessage(\n",
    "        content=\"What is shown in this image? [Google Lens]\", source=\"user\")\n",
    "    await Console(\n",
    "        agent.on_messages_stream(\n",
    "            [prompt], CancellationToken()\n",
    "        )\n",
    "    )\n",
    "\n",
    "asyncio.run(main())"
   ]
  }
 ],
 "metadata": {
  "kernelspec": {
   "display_name": "LLMs_Agents",
   "language": "python",
   "name": "python3"
  },
  "language_info": {
   "codemirror_mode": {
    "name": "ipython",
    "version": 3
   },
   "file_extension": ".py",
   "mimetype": "text/x-python",
   "name": "python",
   "nbconvert_exporter": "python",
   "pygments_lexer": "ipython3",
   "version": "3.10.16"
  }
 },
 "nbformat": 4,
 "nbformat_minor": 5
}
