{
 "cells": [
  {
   "cell_type": "code",
   "execution_count": 2,
   "id": "e64fc8a0",
   "metadata": {},
   "outputs": [],
   "source": [
    "import json\n",
    "with open(\"../results/ViVQA-X_test_Qwen2.5-VL-7B-Instruct.json\") as f:\n",
    "    data = json.load(f)\n",
    "with open(\"../results/ViVQA-X_test_Qwen2.5-VL-7B-Instruct.json\", \"w\") as f:\n",
    "    json.dump(data, f, indent=2, ensure_ascii=False)"
   ]
  }
 ],
 "metadata": {
  "kernelspec": {
   "display_name": "binhdt_env",
   "language": "python",
   "name": "python3"
  },
  "language_info": {
   "codemirror_mode": {
    "name": "ipython",
    "version": 3
   },
   "file_extension": ".py",
   "mimetype": "text/x-python",
   "name": "python",
   "nbconvert_exporter": "python",
   "pygments_lexer": "ipython3",
   "version": "3.10.14"
  }
 },
 "nbformat": 4,
 "nbformat_minor": 5
}
